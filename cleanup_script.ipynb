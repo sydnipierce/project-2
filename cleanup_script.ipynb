{
 "cells": [
  {
   "cell_type": "markdown",
   "metadata": {},
   "source": [
    "## Test JSON Conversion to CSV Process"
   ]
  },
  {
   "cell_type": "code",
   "execution_count": 1,
   "metadata": {},
   "outputs": [],
   "source": [
    "# Import modules\n",
    "import os\n",
    "import pandas as pd\n",
    "import json"
   ]
  },
  {
   "cell_type": "code",
   "execution_count": null,
   "metadata": {},
   "outputs": [],
   "source": [
    "# Load JSON\n",
    "\n",
    "# Set path where JSON is located\n",
    "json_file_path = os.path.join(\"Data\", \"CA_category_id.json\")\n",
    "\n",
    "# Open and load JSON\n",
    "with open(json_file_path, \"r\") as json_file:\n",
    "    data = json.load(json_file)\n",
    "data"
   ]
  },
  {
   "cell_type": "code",
   "execution_count": null,
   "metadata": {},
   "outputs": [],
   "source": [
    "# Eliminate main metadata/create iterable list of documents\n",
    "item = data['items']\n",
    "item"
   ]
  },
  {
   "cell_type": "code",
   "execution_count": null,
   "metadata": {},
   "outputs": [],
   "source": [
    "# Create empty lists to hold relevant data in JSON\n",
    "id = []\n",
    "channelID = []\n",
    "title = []\n",
    "assign = []\n",
    "\n",
    "# Append data from each document to relevant list\n",
    "for doc in item:\n",
    "    id.append(doc['id'])\n",
    "    channelID.append(doc['snippet']['channelId'])\n",
    "    title.append(doc['snippet']['title'])\n",
    "    assign.append(doc['snippet']['assignable'])"
   ]
  },
  {
   "cell_type": "code",
   "execution_count": null,
   "metadata": {},
   "outputs": [],
   "source": [
    "# Zip lists to create dataframe\n",
    "df = pd.DataFrame(list(zip(id, channelID, title, assign)),\n",
    "                 columns = ['Number', 'Channel ID', 'Title', 'Assignable?'])\n",
    "df"
   ]
  },
  {
   "cell_type": "code",
   "execution_count": null,
   "metadata": {},
   "outputs": [],
   "source": [
    "# Test df export to CSV\n",
    "country_code = \"CA\"\n",
    "\n",
    "output_file_path = os.path.join(\"Data\", f'{country_code}_category_id.csv')\n",
    "\n",
    "df.to_csv(output_file_path, index=False)"
   ]
  },
  {
   "cell_type": "markdown",
   "metadata": {},
   "source": [
    "## Convert All JSONs to CSVs"
   ]
  },
  {
   "cell_type": "markdown",
   "metadata": {},
   "source": [
    "### Create Function"
   ]
  },
  {
   "cell_type": "code",
   "execution_count": 2,
   "metadata": {},
   "outputs": [],
   "source": [
    "# Create function to convert all JSON files to CSV\n",
    "def json_conversion(code):\n",
    "    json_file_path = os.path.join(\"Data\", f'{code}_category_id.json')\n",
    "    with open(json_file_path, \"r\") as json_file:\n",
    "        data = json.load(json_file)\n",
    "    item = data['items']\n",
    "    country = []\n",
    "    id = []\n",
    "    channelID = []\n",
    "    title = []\n",
    "    assign = []\n",
    "    for doc in item:\n",
    "        country.append(code)\n",
    "        id.append(doc['id'])\n",
    "        channelID.append(doc['snippet']['channelId'])\n",
    "        title.append(doc['snippet']['title'])\n",
    "        assign.append(doc['snippet']['assignable'])\n",
    "    df = pd.DataFrame(list(zip(country, id, channelID, title, assign)),\n",
    "                 columns = ['country', 'id_number', 'channel_id', 'title', 'assignable'])\n",
    "    output_file_path = os.path.join(\"Data\", f'{code}_category_id.csv')\n",
    "    df.to_csv(output_file_path, index=False)"
   ]
  },
  {
   "cell_type": "markdown",
   "metadata": {},
   "source": [
    "### Call Function to Convert JSONs"
   ]
  },
  {
   "cell_type": "code",
   "execution_count": 3,
   "metadata": {},
   "outputs": [],
   "source": [
    "# Create list of data file country codes\n",
    "countries = [\"CA\", \"DE\", \"FR\", \"GB\", \"IN\", \"JP\", \"KR\", \"MX\", \"RU\", \"US\"]\n",
    "\n",
    "for code in countries:\n",
    "    json_conversion(code)"
   ]
  },
  {
   "cell_type": "markdown",
   "metadata": {},
   "source": [
    "## Prepare Video CSV Files"
   ]
  },
  {
   "cell_type": "code",
   "execution_count": 6,
   "metadata": {},
   "outputs": [],
   "source": [
    "def video_country(code):\n",
    "    video_file_path = os.path.join(\"Data\", f'{code}videos.csv')\n",
    "    df = pd.read_csv(video_file_path)\n",
    "    df"
   ]
  },
  {
   "cell_type": "code",
   "execution_count": 11,
   "metadata": {},
   "outputs": [
    {
     "data": {
      "text/html": [
       "<div>\n",
       "<style scoped>\n",
       "    .dataframe tbody tr th:only-of-type {\n",
       "        vertical-align: middle;\n",
       "    }\n",
       "\n",
       "    .dataframe tbody tr th {\n",
       "        vertical-align: top;\n",
       "    }\n",
       "\n",
       "    .dataframe thead th {\n",
       "        text-align: right;\n",
       "    }\n",
       "</style>\n",
       "<table border=\"1\" class=\"dataframe\">\n",
       "  <thead>\n",
       "    <tr style=\"text-align: right;\">\n",
       "      <th></th>\n",
       "      <th>video_id</th>\n",
       "      <th>title</th>\n",
       "      <th>views</th>\n",
       "      <th>comment_count</th>\n",
       "      <th>trending_date</th>\n",
       "    </tr>\n",
       "  </thead>\n",
       "  <tbody>\n",
       "    <tr>\n",
       "      <th>0</th>\n",
       "      <td>LgVi6y5QIjM</td>\n",
       "      <td>Sing zu Ende! | Gesangseinlagen vom Feinsten |...</td>\n",
       "      <td>252786</td>\n",
       "      <td>1539</td>\n",
       "      <td>17.14.11</td>\n",
       "    </tr>\n",
       "    <tr>\n",
       "      <th>1</th>\n",
       "      <td>Bayt7uQith4</td>\n",
       "      <td>Kinder ferngesteuert im Kiosk! Erwachsene abzo...</td>\n",
       "      <td>797196</td>\n",
       "      <td>1278</td>\n",
       "      <td>17.14.11</td>\n",
       "    </tr>\n",
       "    <tr>\n",
       "      <th>2</th>\n",
       "      <td>1ZAPwfrtAFY</td>\n",
       "      <td>The Trump Presidency: Last Week Tonight with J...</td>\n",
       "      <td>2418783</td>\n",
       "      <td>12703</td>\n",
       "      <td>17.14.11</td>\n",
       "    </tr>\n",
       "    <tr>\n",
       "      <th>3</th>\n",
       "      <td>AHtypnRk7JE</td>\n",
       "      <td>Das Fermi-Paradoxon</td>\n",
       "      <td>380247</td>\n",
       "      <td>1955</td>\n",
       "      <td>17.14.11</td>\n",
       "    </tr>\n",
       "    <tr>\n",
       "      <th>4</th>\n",
       "      <td>ZJ9We4bjcg0</td>\n",
       "      <td>18 SONGS mit Kelly MissesVlog (Sing-off)</td>\n",
       "      <td>822213</td>\n",
       "      <td>10244</td>\n",
       "      <td>17.14.11</td>\n",
       "    </tr>\n",
       "    <tr>\n",
       "      <th>...</th>\n",
       "      <td>...</td>\n",
       "      <td>...</td>\n",
       "      <td>...</td>\n",
       "      <td>...</td>\n",
       "      <td>...</td>\n",
       "    </tr>\n",
       "    <tr>\n",
       "      <th>40835</th>\n",
       "      <td>fn5WNxy-Wcw</td>\n",
       "      <td>KINGDOM HEARTS III – E3 2018 Pirates of the Ca...</td>\n",
       "      <td>1394530</td>\n",
       "      <td>9878</td>\n",
       "      <td>18.14.06</td>\n",
       "    </tr>\n",
       "    <tr>\n",
       "      <th>40836</th>\n",
       "      <td>zAFv43lxqHE</td>\n",
       "      <td>YMS: The Visit</td>\n",
       "      <td>139733</td>\n",
       "      <td>1968</td>\n",
       "      <td>18.14.06</td>\n",
       "    </tr>\n",
       "    <tr>\n",
       "      <th>40837</th>\n",
       "      <td>zSXG5I6Y2fA</td>\n",
       "      <td>Ungut umgeschult – Grünwald als Ersthelfer am ...</td>\n",
       "      <td>26054</td>\n",
       "      <td>8</td>\n",
       "      <td>18.14.06</td>\n",
       "    </tr>\n",
       "    <tr>\n",
       "      <th>40838</th>\n",
       "      <td>5d115sePmaU</td>\n",
       "      <td>Assassin's Creed Odyssey: E3 2018 Welt-Enthüll...</td>\n",
       "      <td>1139198</td>\n",
       "      <td>1587</td>\n",
       "      <td>18.14.06</td>\n",
       "    </tr>\n",
       "    <tr>\n",
       "      <th>40839</th>\n",
       "      <td>go-F6xvezAM</td>\n",
       "      <td>Гироскутер - Азбука Уральских Пельменей Б - Ур...</td>\n",
       "      <td>316328</td>\n",
       "      <td>550</td>\n",
       "      <td>18.14.06</td>\n",
       "    </tr>\n",
       "  </tbody>\n",
       "</table>\n",
       "<p>40840 rows × 5 columns</p>\n",
       "</div>"
      ],
      "text/plain": [
       "          video_id                                              title  \\\n",
       "0      LgVi6y5QIjM  Sing zu Ende! | Gesangseinlagen vom Feinsten |...   \n",
       "1      Bayt7uQith4  Kinder ferngesteuert im Kiosk! Erwachsene abzo...   \n",
       "2      1ZAPwfrtAFY  The Trump Presidency: Last Week Tonight with J...   \n",
       "3      AHtypnRk7JE                                Das Fermi-Paradoxon   \n",
       "4      ZJ9We4bjcg0           18 SONGS mit Kelly MissesVlog (Sing-off)   \n",
       "...            ...                                                ...   \n",
       "40835  fn5WNxy-Wcw  KINGDOM HEARTS III – E3 2018 Pirates of the Ca...   \n",
       "40836  zAFv43lxqHE                                     YMS: The Visit   \n",
       "40837  zSXG5I6Y2fA  Ungut umgeschult – Grünwald als Ersthelfer am ...   \n",
       "40838  5d115sePmaU  Assassin's Creed Odyssey: E3 2018 Welt-Enthüll...   \n",
       "40839  go-F6xvezAM  Гироскутер - Азбука Уральских Пельменей Б - Ур...   \n",
       "\n",
       "         views  comment_count trending_date  \n",
       "0       252786           1539      17.14.11  \n",
       "1       797196           1278      17.14.11  \n",
       "2      2418783          12703      17.14.11  \n",
       "3       380247           1955      17.14.11  \n",
       "4       822213          10244      17.14.11  \n",
       "...        ...            ...           ...  \n",
       "40835  1394530           9878      18.14.06  \n",
       "40836   139733           1968      18.14.06  \n",
       "40837    26054              8      18.14.06  \n",
       "40838  1139198           1587      18.14.06  \n",
       "40839   316328            550      18.14.06  \n",
       "\n",
       "[40840 rows x 5 columns]"
      ]
     },
     "execution_count": 11,
     "metadata": {},
     "output_type": "execute_result"
    }
   ],
   "source": [
    "code = \"DE\"\n",
    "\n",
    "video_file_path = os.path.join(\"Data\", f'{code}videos.csv')\n",
    "df = pd.read_csv(video_file_path)\n",
    "clean_df = df.loc[:, ['video_id', 'title', 'views', 'comment_count', 'trending_date']]\n",
    "clean_df"
   ]
  },
  {
   "cell_type": "code",
   "execution_count": null,
   "metadata": {},
   "outputs": [],
   "source": []
  }
 ],
 "metadata": {
  "kernelspec": {
   "display_name": "Python 3",
   "language": "python",
   "name": "python3"
  },
  "language_info": {
   "codemirror_mode": {
    "name": "ipython",
    "version": 3
   },
   "file_extension": ".py",
   "mimetype": "text/x-python",
   "name": "python",
   "nbconvert_exporter": "python",
   "pygments_lexer": "ipython3",
   "version": "3.8.5"
  }
 },
 "nbformat": 4,
 "nbformat_minor": 4
}
