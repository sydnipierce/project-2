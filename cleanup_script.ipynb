{
 "cells": [
  {
   "cell_type": "markdown",
   "metadata": {},
   "source": [
    "## Test JSON Conversion to CSV Process"
   ]
  },
  {
   "cell_type": "code",
   "execution_count": 1,
   "metadata": {},
   "outputs": [],
   "source": [
    "# Import modules\n",
    "import os\n",
    "import pandas as pd\n",
    "import json"
   ]
  },
  {
   "cell_type": "code",
   "execution_count": null,
   "metadata": {},
   "outputs": [],
   "source": [
    "# Load JSON\n",
    "\n",
    "# Set path where JSON is located\n",
    "json_file_path = os.path.join(\"Data\", \"CA_category_id.json\")\n",
    "\n",
    "# Open and load JSON\n",
    "with open(json_file_path, \"r\") as json_file:\n",
    "    data = json.load(json_file)\n",
    "data"
   ]
  },
  {
   "cell_type": "code",
   "execution_count": null,
   "metadata": {},
   "outputs": [],
   "source": [
    "# Eliminate main metadata/create iterable list of documents\n",
    "item = data['items']\n",
    "item"
   ]
  },
  {
   "cell_type": "code",
   "execution_count": null,
   "metadata": {},
   "outputs": [],
   "source": [
    "# Create empty lists to hold relevant data in JSON\n",
    "id = []\n",
    "channelID = []\n",
    "title = []\n",
    "assign = []\n",
    "\n",
    "# Append data from each document to relevant list\n",
    "for doc in item:\n",
    "    id.append(doc['id'])\n",
    "    channelID.append(doc['snippet']['channelId'])\n",
    "    title.append(doc['snippet']['title'])\n",
    "    assign.append(doc['snippet']['assignable'])"
   ]
  },
  {
   "cell_type": "code",
   "execution_count": null,
   "metadata": {},
   "outputs": [],
   "source": [
    "# Zip lists to create dataframe\n",
    "df = pd.DataFrame(list(zip(id, channelID, title, assign)),\n",
    "                 columns = ['Number', 'Channel ID', 'Title', 'Assignable?'])\n",
    "df"
   ]
  },
  {
   "cell_type": "code",
   "execution_count": null,
   "metadata": {},
   "outputs": [],
   "source": [
    "# Test df export to CSV\n",
    "country_code = \"CA\"\n",
    "\n",
    "output_file_path = os.path.join(\"Data\", f'{country_code}_category_id.csv')\n",
    "\n",
    "df.to_csv(output_file_path, index=False)"
   ]
  },
  {
   "cell_type": "markdown",
   "metadata": {},
   "source": [
    "## Convert All JSONs to CSVs"
   ]
  },
  {
   "cell_type": "markdown",
   "metadata": {},
   "source": [
    "### Create Function"
   ]
  },
  {
   "cell_type": "code",
   "execution_count": 6,
   "metadata": {},
   "outputs": [],
   "source": [
    "# Create function to convert all JSON files to CSV\n",
    "def json_conversion(code):\n",
    "    json_file_path = os.path.join(\"Data\", f'{code}_category_id.json')\n",
    "    with open(json_file_path, \"r\") as json_file:\n",
    "        data = json.load(json_file)\n",
    "    item = data['items']\n",
    "    country = []\n",
    "    id = []\n",
    "    channelID = []\n",
    "    title = []\n",
    "    assign = []\n",
    "    for doc in item:\n",
    "        country.append(code)\n",
    "        id.append(doc['id'])\n",
    "        channelID.append(doc['snippet']['channelId'])\n",
    "        title.append(doc['snippet']['title'])\n",
    "        assign.append(doc['snippet']['assignable'])\n",
    "    df = pd.DataFrame(list(zip(country, id, channelID, title, assign)),\n",
    "                 columns = ['Country', 'Number', 'Channel ID', 'Title', 'Assignable?'])\n",
    "    output_file_path = os.path.join(\"Data\", f'{code}_category_id.csv')\n",
    "    df.to_csv(output_file_path, index=False)"
   ]
  },
  {
   "cell_type": "markdown",
   "metadata": {},
   "source": [
    "### Call Function to Convert JSONs"
   ]
  },
  {
   "cell_type": "code",
   "execution_count": 7,
   "metadata": {},
   "outputs": [],
   "source": [
    "# Create list of data file country codes\n",
    "countries = [\"CA\", \"DE\", \"FR\", \"GB\", \"IN\", \"JP\", \"KR\", \"MX\", \"RU\", \"US\"]\n",
    "\n",
    "for code in countries:\n",
    "    json_conversion(code)"
   ]
  },
  {
   "cell_type": "code",
   "execution_count": null,
   "metadata": {},
   "outputs": [],
   "source": []
  }
 ],
 "metadata": {
  "kernelspec": {
   "display_name": "Python 3",
   "language": "python",
   "name": "python3"
  },
  "language_info": {
   "codemirror_mode": {
    "name": "ipython",
    "version": 3
   },
   "file_extension": ".py",
   "mimetype": "text/x-python",
   "name": "python",
   "nbconvert_exporter": "python",
   "pygments_lexer": "ipython3",
   "version": "3.8.5"
  }
 },
 "nbformat": 4,
 "nbformat_minor": 4
}
